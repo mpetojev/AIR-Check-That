{
 "cells": [
  {
   "cell_type": "markdown",
   "metadata": {
    "id": "MfnQvGfvtH1w"
   },
   "source": [
    "# Getting started\n",
    "\n",
    "### CLEF 2025 - CheckThat! Lab  - Task 4 Scientific Web Discourse - Subtask 4b (Scientific Claim Source Retrieval)\n",
    "\n",
    "This notebook enables participants of subtask 4b to quickly get started. It includes the following:\n",
    "- Code to upload data, including:\n",
    "    - code to upload the collection set (CORD-19 academic papers' metadata)\n",
    "    - code to upload the query set (tweets with implicit references to CORD-19 papers)\n",
    "- Code to run a baseline retrieval model (BM25)\n",
    "- Code to evaluate the baseline model\n",
    "\n",
    "Participants are free to use this notebook and add their own models for the competition.."
   ]
  },
  {
   "cell_type": "markdown",
   "metadata": {
    "id": "vpDCfBMouNAL"
   },
   "source": [
    "# 1) Importing data"
   ]
  },
  {
   "cell_type": "code",
   "metadata": {
    "executionInfo": {
     "elapsed": 403,
     "status": "ok",
     "timestamp": 1742975967136,
     "user": {
      "displayName": "Yavuz",
      "userId": "01318046262282431930"
     },
     "user_tz": -60
    },
    "id": "rQPqDKP_QHFM",
    "ExecuteTime": {
     "end_time": "2025-05-09T10:56:42.845959Z",
     "start_time": "2025-05-09T10:56:35.273671Z"
    }
   },
   "source": [
    "import numpy as np\n",
    "import pandas as pd"
   ],
   "outputs": [
    {
     "name": "stdout",
     "output_type": "stream",
     "text": [
      "Requirement already satisfied: numpy in c:\\tu\\air-check-that\\.venv\\lib\\site-packages (2.2.5)\n",
      "Requirement already satisfied: pandas in c:\\tu\\air-check-that\\.venv\\lib\\site-packages (2.2.3)\n",
      "Requirement already satisfied: python-dateutil>=2.8.2 in c:\\tu\\air-check-that\\.venv\\lib\\site-packages (from pandas) (2.9.0.post0)\n",
      "Requirement already satisfied: pytz>=2020.1 in c:\\tu\\air-check-that\\.venv\\lib\\site-packages (from pandas) (2025.2)\n",
      "Requirement already satisfied: tzdata>=2022.7 in c:\\tu\\air-check-that\\.venv\\lib\\site-packages (from pandas) (2025.2)\n",
      "Requirement already satisfied: six>=1.5 in c:\\tu\\air-check-that\\.venv\\lib\\site-packages (from python-dateutil>=2.8.2->pandas) (1.17.0)\n"
     ]
    },
    {
     "name": "stderr",
     "output_type": "stream",
     "text": [
      "\n",
      "[notice] A new release of pip is available: 23.2.1 -> 25.1.1\n",
      "[notice] To update, run: python.exe -m pip install --upgrade pip\n"
     ]
    }
   ],
   "execution_count": 9
  },
  {
   "cell_type": "markdown",
   "metadata": {
    "id": "u8N7h9BhQI5m"
   },
   "source": [
    "## 1.a) Import the collection set\n",
    "The collection set contains metadata of CORD-19 academic papers.\n",
    "\n",
    "The preprocessed and filtered CORD-19 dataset is available on the Gitlab repository here: https://gitlab.com/checkthat_lab/clef2025-checkthat-lab/-/tree/main/task4/subtask_4b\n",
    "\n",
    "Participants should first download the file then upload it on the Google Colab session with the following steps.\n"
   ]
  },
  {
   "cell_type": "code",
   "metadata": {
    "executionInfo": {
     "elapsed": 7,
     "status": "ok",
     "timestamp": 1742975971100,
     "user": {
      "displayName": "Yavuz",
      "userId": "01318046262282431930"
     },
     "user_tz": -60
    },
    "id": "2GQI4HcKR6hS",
    "ExecuteTime": {
     "end_time": "2025-05-09T10:56:42.860333Z",
     "start_time": "2025-05-09T10:56:42.853023Z"
    }
   },
   "source": [
    "# 1) Download the collection set from the Gitlab repository: https://gitlab.com/checkthat_lab/clef2025-checkthat-lab/-/tree/main/task4/subtask_4b\n",
    "# 2) Drag and drop the downloaded file to the \"Files\" section (left vertical menu on Colab)\n",
    "# 3) Modify the path to your local file path\n",
    "PATH_COLLECTION_DATA = 'subtask4b_collection_data.pkl' #MODIFY PATH"
   ],
   "outputs": [],
   "execution_count": 10
  },
  {
   "cell_type": "code",
   "metadata": {
    "executionInfo": {
     "elapsed": 42,
     "status": "ok",
     "timestamp": 1742975975524,
     "user": {
      "displayName": "Yavuz",
      "userId": "01318046262282431930"
     },
     "user_tz": -60
    },
    "id": "SYBB3UYbMwTA",
    "ExecuteTime": {
     "end_time": "2025-05-09T10:56:42.954445Z",
     "start_time": "2025-05-09T10:56:42.918306Z"
    }
   },
   "source": [
    "df_collection = pd.read_pickle(PATH_COLLECTION_DATA)"
   ],
   "outputs": [],
   "execution_count": 11
  },
  {
   "cell_type": "code",
   "metadata": {
    "colab": {
     "base_uri": "https://localhost:8080/"
    },
    "executionInfo": {
     "elapsed": 37,
     "status": "ok",
     "timestamp": 1742975976305,
     "user": {
      "displayName": "Yavuz",
      "userId": "01318046262282431930"
     },
     "user_tz": -60
    },
    "id": "4v3lygNOQQSn",
    "outputId": "ee5b9abd-f889-4a4e-ce11-32d2691433cb",
    "ExecuteTime": {
     "end_time": "2025-05-09T10:56:43.004247Z",
     "start_time": "2025-05-09T10:56:42.985175Z"
    }
   },
   "source": [
    "df_collection.info()"
   ],
   "outputs": [
    {
     "name": "stdout",
     "output_type": "stream",
     "text": [
      "<class 'pandas.core.frame.DataFrame'>\n",
      "Index: 7718 entries, 162 to 1056448\n",
      "Data columns (total 17 columns):\n",
      " #   Column            Non-Null Count  Dtype         \n",
      "---  ------            --------------  -----         \n",
      " 0   cord_uid          7718 non-null   object        \n",
      " 1   source_x          7718 non-null   object        \n",
      " 2   title             7718 non-null   object        \n",
      " 3   doi               7677 non-null   object        \n",
      " 4   pmcid             4959 non-null   object        \n",
      " 5   pubmed_id         6233 non-null   object        \n",
      " 6   license           7718 non-null   object        \n",
      " 7   abstract          7718 non-null   object        \n",
      " 8   publish_time      7715 non-null   object        \n",
      " 9   authors           7674 non-null   object        \n",
      " 10  journal           6668 non-null   object        \n",
      " 11  mag_id            0 non-null      float64       \n",
      " 12  who_covidence_id  528 non-null    object        \n",
      " 13  arxiv_id          20 non-null     object        \n",
      " 14  label             7718 non-null   object        \n",
      " 15  time              7715 non-null   datetime64[ns]\n",
      " 16  timet             7718 non-null   int64         \n",
      "dtypes: datetime64[ns](1), float64(1), int64(1), object(14)\n",
      "memory usage: 1.1+ MB\n"
     ]
    }
   ],
   "execution_count": 12
  },
  {
   "cell_type": "code",
   "metadata": {
    "colab": {
     "base_uri": "https://localhost:8080/",
     "height": 608
    },
    "executionInfo": {
     "elapsed": 211,
     "status": "ok",
     "timestamp": 1742975978238,
     "user": {
      "displayName": "Yavuz",
      "userId": "01318046262282431930"
     },
     "user_tz": -60
    },
    "id": "9veNFFGDZRx7",
    "outputId": "5eec7f85-7d20-44d7-8986-a85cb00533d8",
    "ExecuteTime": {
     "end_time": "2025-05-09T10:56:43.049145Z",
     "start_time": "2025-05-09T10:56:43.026553Z"
    }
   },
   "source": [
    "df_collection.head()"
   ],
   "outputs": [
    {
     "data": {
      "text/plain": [
       "      cord_uid source_x                                              title  \\\n",
       "162   umvrwgaw      PMC  Professional and Home-Made Face Masks Reduce E...   \n",
       "611   spiud6ok      PMC                               The Failure of R (0)   \n",
       "918   aclzp3iy      PMC  Pulmonary sequelae in a patient recovered from...   \n",
       "993   ycxyn2a2      PMC  What was the primary mode of smallpox transmis...   \n",
       "1053  zxe95qy9      PMC  Lessons from the History of Quarantine, from P...   \n",
       "\n",
       "                               doi       pmcid pubmed_id      license  \\\n",
       "162   10.1371/journal.pone.0002618  PMC2440799  18612429        cc-by   \n",
       "611            10.1155/2011/527610  PMC3157160  21860658        cc-by   \n",
       "918        10.4103/0970-2113.99118  PMC3424870  22919170  cc-by-nc-sa   \n",
       "993       10.3389/fcimb.2012.00150  PMC3509329  23226686        cc-by   \n",
       "1053        10.3201/eid1902.120312  PMC3559034  23343512        no-cc   \n",
       "\n",
       "                                               abstract publish_time  \\\n",
       "162   BACKGROUND: Governments are preparing for a po...   2008-07-09   \n",
       "611   The basic reproductive ratio, R (0), is one of...   2011-08-16   \n",
       "918   The pandemic of swine flu (H1N1) influenza spr...         2012   \n",
       "993   The mode of infection transmission has profoun...   2012-11-29   \n",
       "1053  In the new millennium, the centuries-old strat...   2013-02-03   \n",
       "\n",
       "                                                authors  \\\n",
       "162   van der Sande, Marianne; Teunis, Peter; Sabel,...   \n",
       "611       Li, Jing; Blakeley, Daniel; Smith?, Robert J.   \n",
       "918   Singh, Virendra; Sharma, Bharat Bhushan; Patel...   \n",
       "993                                   Milton, Donald K.   \n",
       "1053                                  Tognotti, Eugenia   \n",
       "\n",
       "                          journal  mag_id who_covidence_id arxiv_id     label  \\\n",
       "162                      PLoS One     NaN              NaN      NaN  umvrwgaw   \n",
       "611       Comput Math Methods Med     NaN              NaN      NaN  spiud6ok   \n",
       "918                    Lung India     NaN              NaN      NaN  aclzp3iy   \n",
       "993   Front Cell Infect Microbiol     NaN              NaN      NaN  ycxyn2a2   \n",
       "1053             Emerg Infect Dis     NaN              NaN      NaN  zxe95qy9   \n",
       "\n",
       "           time       timet  \n",
       "162  2008-07-09  1215561600  \n",
       "611  2011-08-16  1313452800  \n",
       "918  2012-01-01  1325376000  \n",
       "993  2012-11-29  1354147200  \n",
       "1053 2013-02-03  1359849600  "
      ],
      "text/html": [
       "<div>\n",
       "<style scoped>\n",
       "    .dataframe tbody tr th:only-of-type {\n",
       "        vertical-align: middle;\n",
       "    }\n",
       "\n",
       "    .dataframe tbody tr th {\n",
       "        vertical-align: top;\n",
       "    }\n",
       "\n",
       "    .dataframe thead th {\n",
       "        text-align: right;\n",
       "    }\n",
       "</style>\n",
       "<table border=\"1\" class=\"dataframe\">\n",
       "  <thead>\n",
       "    <tr style=\"text-align: right;\">\n",
       "      <th></th>\n",
       "      <th>cord_uid</th>\n",
       "      <th>source_x</th>\n",
       "      <th>title</th>\n",
       "      <th>doi</th>\n",
       "      <th>pmcid</th>\n",
       "      <th>pubmed_id</th>\n",
       "      <th>license</th>\n",
       "      <th>abstract</th>\n",
       "      <th>publish_time</th>\n",
       "      <th>authors</th>\n",
       "      <th>journal</th>\n",
       "      <th>mag_id</th>\n",
       "      <th>who_covidence_id</th>\n",
       "      <th>arxiv_id</th>\n",
       "      <th>label</th>\n",
       "      <th>time</th>\n",
       "      <th>timet</th>\n",
       "    </tr>\n",
       "  </thead>\n",
       "  <tbody>\n",
       "    <tr>\n",
       "      <th>162</th>\n",
       "      <td>umvrwgaw</td>\n",
       "      <td>PMC</td>\n",
       "      <td>Professional and Home-Made Face Masks Reduce E...</td>\n",
       "      <td>10.1371/journal.pone.0002618</td>\n",
       "      <td>PMC2440799</td>\n",
       "      <td>18612429</td>\n",
       "      <td>cc-by</td>\n",
       "      <td>BACKGROUND: Governments are preparing for a po...</td>\n",
       "      <td>2008-07-09</td>\n",
       "      <td>van der Sande, Marianne; Teunis, Peter; Sabel,...</td>\n",
       "      <td>PLoS One</td>\n",
       "      <td>NaN</td>\n",
       "      <td>NaN</td>\n",
       "      <td>NaN</td>\n",
       "      <td>umvrwgaw</td>\n",
       "      <td>2008-07-09</td>\n",
       "      <td>1215561600</td>\n",
       "    </tr>\n",
       "    <tr>\n",
       "      <th>611</th>\n",
       "      <td>spiud6ok</td>\n",
       "      <td>PMC</td>\n",
       "      <td>The Failure of R (0)</td>\n",
       "      <td>10.1155/2011/527610</td>\n",
       "      <td>PMC3157160</td>\n",
       "      <td>21860658</td>\n",
       "      <td>cc-by</td>\n",
       "      <td>The basic reproductive ratio, R (0), is one of...</td>\n",
       "      <td>2011-08-16</td>\n",
       "      <td>Li, Jing; Blakeley, Daniel; Smith?, Robert J.</td>\n",
       "      <td>Comput Math Methods Med</td>\n",
       "      <td>NaN</td>\n",
       "      <td>NaN</td>\n",
       "      <td>NaN</td>\n",
       "      <td>spiud6ok</td>\n",
       "      <td>2011-08-16</td>\n",
       "      <td>1313452800</td>\n",
       "    </tr>\n",
       "    <tr>\n",
       "      <th>918</th>\n",
       "      <td>aclzp3iy</td>\n",
       "      <td>PMC</td>\n",
       "      <td>Pulmonary sequelae in a patient recovered from...</td>\n",
       "      <td>10.4103/0970-2113.99118</td>\n",
       "      <td>PMC3424870</td>\n",
       "      <td>22919170</td>\n",
       "      <td>cc-by-nc-sa</td>\n",
       "      <td>The pandemic of swine flu (H1N1) influenza spr...</td>\n",
       "      <td>2012</td>\n",
       "      <td>Singh, Virendra; Sharma, Bharat Bhushan; Patel...</td>\n",
       "      <td>Lung India</td>\n",
       "      <td>NaN</td>\n",
       "      <td>NaN</td>\n",
       "      <td>NaN</td>\n",
       "      <td>aclzp3iy</td>\n",
       "      <td>2012-01-01</td>\n",
       "      <td>1325376000</td>\n",
       "    </tr>\n",
       "    <tr>\n",
       "      <th>993</th>\n",
       "      <td>ycxyn2a2</td>\n",
       "      <td>PMC</td>\n",
       "      <td>What was the primary mode of smallpox transmis...</td>\n",
       "      <td>10.3389/fcimb.2012.00150</td>\n",
       "      <td>PMC3509329</td>\n",
       "      <td>23226686</td>\n",
       "      <td>cc-by</td>\n",
       "      <td>The mode of infection transmission has profoun...</td>\n",
       "      <td>2012-11-29</td>\n",
       "      <td>Milton, Donald K.</td>\n",
       "      <td>Front Cell Infect Microbiol</td>\n",
       "      <td>NaN</td>\n",
       "      <td>NaN</td>\n",
       "      <td>NaN</td>\n",
       "      <td>ycxyn2a2</td>\n",
       "      <td>2012-11-29</td>\n",
       "      <td>1354147200</td>\n",
       "    </tr>\n",
       "    <tr>\n",
       "      <th>1053</th>\n",
       "      <td>zxe95qy9</td>\n",
       "      <td>PMC</td>\n",
       "      <td>Lessons from the History of Quarantine, from P...</td>\n",
       "      <td>10.3201/eid1902.120312</td>\n",
       "      <td>PMC3559034</td>\n",
       "      <td>23343512</td>\n",
       "      <td>no-cc</td>\n",
       "      <td>In the new millennium, the centuries-old strat...</td>\n",
       "      <td>2013-02-03</td>\n",
       "      <td>Tognotti, Eugenia</td>\n",
       "      <td>Emerg Infect Dis</td>\n",
       "      <td>NaN</td>\n",
       "      <td>NaN</td>\n",
       "      <td>NaN</td>\n",
       "      <td>zxe95qy9</td>\n",
       "      <td>2013-02-03</td>\n",
       "      <td>1359849600</td>\n",
       "    </tr>\n",
       "  </tbody>\n",
       "</table>\n",
       "</div>"
      ]
     },
     "execution_count": 13,
     "metadata": {},
     "output_type": "execute_result"
    }
   ],
   "execution_count": 13
  },
  {
   "cell_type": "markdown",
   "metadata": {
    "id": "AAUiDU0xXLBt"
   },
   "source": [
    "## 1.b) Import the query set\n",
    "\n",
    "The query set contains tweets with implicit references to academic papers from the collection set.\n",
    "\n",
    "The preprocessed query set is available on the Gitlab repository here: https://gitlab.com/checkthat_lab/clef2025-checkthat-lab/-/tree/main/task4/subtask_4b\n",
    "\n",
    "Participants should first download the file then upload it on the Google Colab session with the following steps."
   ]
  },
  {
   "cell_type": "code",
   "metadata": {
    "executionInfo": {
     "elapsed": 11,
     "status": "ok",
     "timestamp": 1742975982410,
     "user": {
      "displayName": "Yavuz",
      "userId": "01318046262282431930"
     },
     "user_tz": -60
    },
    "id": "v8gwkZDSXPsd",
    "ExecuteTime": {
     "end_time": "2025-05-09T10:56:43.095651Z",
     "start_time": "2025-05-09T10:56:43.089313Z"
    }
   },
   "source": [
    "# 1) Download the query tweets from the Gitlab repository: https://gitlab.com/checkthat_lab/clef2025-checkthat-lab/-/tree/main/task4/subtask_4b?ref_type=heads\n",
    "# 2) Drag and drop the downloaded file to the \"Files\" section (left vertical menu on Colab)\n",
    "# 3) Modify the path to your local file path\n",
    "PATH_QUERY_TRAIN_DATA = 'subtask4b_query_tweets_train.tsv' #MODIFY PATH\n",
    "PATH_QUERY_DEV_DATA = 'subtask4b_query_tweets_dev.tsv' #MODIFY PATH"
   ],
   "outputs": [],
   "execution_count": 14
  },
  {
   "cell_type": "code",
   "metadata": {
    "executionInfo": {
     "elapsed": 17,
     "status": "ok",
     "timestamp": 1742976006985,
     "user": {
      "displayName": "Yavuz",
      "userId": "01318046262282431930"
     },
     "user_tz": -60
    },
    "id": "VqxjYq2tYDmE",
    "ExecuteTime": {
     "end_time": "2025-05-09T10:56:43.183553Z",
     "start_time": "2025-05-09T10:56:43.127794Z"
    }
   },
   "source": [
    "df_query_train = pd.read_csv(PATH_QUERY_TRAIN_DATA, sep = '\\t')\n",
    "df_query_dev = pd.read_csv(PATH_QUERY_DEV_DATA, sep = '\\t')"
   ],
   "outputs": [],
   "execution_count": 15
  },
  {
   "cell_type": "code",
   "metadata": {
    "id": "szMEK3OkYLvX",
    "ExecuteTime": {
     "end_time": "2025-05-09T10:56:43.340139Z",
     "start_time": "2025-05-09T10:56:43.333230Z"
    }
   },
   "source": [
    "df_query_train.head()"
   ],
   "outputs": [
    {
     "data": {
      "text/plain": [
       "   post_id                                         tweet_text  cord_uid\n",
       "0        0  Oral care in rehabilitation medicine: oral vul...  htlvpvz5\n",
       "1        1  this study isn't receiving sufficient attentio...  4kfl29ul\n",
       "2        2  thanks, xi jinping. a reminder that this study...  jtwb17u8\n",
       "3        3  Taiwan - a population of 23 million has had ju...  0w9k8iy1\n",
       "4        4  Obtaining a diagnosis of autism in lower incom...  tiqksd69"
      ],
      "text/html": [
       "<div>\n",
       "<style scoped>\n",
       "    .dataframe tbody tr th:only-of-type {\n",
       "        vertical-align: middle;\n",
       "    }\n",
       "\n",
       "    .dataframe tbody tr th {\n",
       "        vertical-align: top;\n",
       "    }\n",
       "\n",
       "    .dataframe thead th {\n",
       "        text-align: right;\n",
       "    }\n",
       "</style>\n",
       "<table border=\"1\" class=\"dataframe\">\n",
       "  <thead>\n",
       "    <tr style=\"text-align: right;\">\n",
       "      <th></th>\n",
       "      <th>post_id</th>\n",
       "      <th>tweet_text</th>\n",
       "      <th>cord_uid</th>\n",
       "    </tr>\n",
       "  </thead>\n",
       "  <tbody>\n",
       "    <tr>\n",
       "      <th>0</th>\n",
       "      <td>0</td>\n",
       "      <td>Oral care in rehabilitation medicine: oral vul...</td>\n",
       "      <td>htlvpvz5</td>\n",
       "    </tr>\n",
       "    <tr>\n",
       "      <th>1</th>\n",
       "      <td>1</td>\n",
       "      <td>this study isn't receiving sufficient attentio...</td>\n",
       "      <td>4kfl29ul</td>\n",
       "    </tr>\n",
       "    <tr>\n",
       "      <th>2</th>\n",
       "      <td>2</td>\n",
       "      <td>thanks, xi jinping. a reminder that this study...</td>\n",
       "      <td>jtwb17u8</td>\n",
       "    </tr>\n",
       "    <tr>\n",
       "      <th>3</th>\n",
       "      <td>3</td>\n",
       "      <td>Taiwan - a population of 23 million has had ju...</td>\n",
       "      <td>0w9k8iy1</td>\n",
       "    </tr>\n",
       "    <tr>\n",
       "      <th>4</th>\n",
       "      <td>4</td>\n",
       "      <td>Obtaining a diagnosis of autism in lower incom...</td>\n",
       "      <td>tiqksd69</td>\n",
       "    </tr>\n",
       "  </tbody>\n",
       "</table>\n",
       "</div>"
      ]
     },
     "execution_count": 16,
     "metadata": {},
     "output_type": "execute_result"
    }
   ],
   "execution_count": 16
  },
  {
   "cell_type": "code",
   "metadata": {
    "id": "aslmTTJQyL2X",
    "ExecuteTime": {
     "end_time": "2025-05-09T10:56:43.569399Z",
     "start_time": "2025-05-09T10:56:43.552216Z"
    }
   },
   "source": [
    "df_query_train.info()"
   ],
   "outputs": [
    {
     "name": "stdout",
     "output_type": "stream",
     "text": [
      "<class 'pandas.core.frame.DataFrame'>\n",
      "RangeIndex: 12853 entries, 0 to 12852\n",
      "Data columns (total 3 columns):\n",
      " #   Column      Non-Null Count  Dtype \n",
      "---  ------      --------------  ----- \n",
      " 0   post_id     12853 non-null  int64 \n",
      " 1   tweet_text  12853 non-null  object\n",
      " 2   cord_uid    12853 non-null  object\n",
      "dtypes: int64(1), object(2)\n",
      "memory usage: 301.4+ KB\n"
     ]
    }
   ],
   "execution_count": 17
  },
  {
   "cell_type": "code",
   "metadata": {
    "colab": {
     "base_uri": "https://localhost:8080/",
     "height": 206
    },
    "executionInfo": {
     "elapsed": 28,
     "status": "ok",
     "timestamp": 1742976030778,
     "user": {
      "displayName": "Yavuz",
      "userId": "01318046262282431930"
     },
     "user_tz": -60
    },
    "id": "B5X8FwLhLY3u",
    "outputId": "36e21737-8257-4568-8346-0d3e0980ee53",
    "ExecuteTime": {
     "end_time": "2025-05-09T10:56:43.879264Z",
     "start_time": "2025-05-09T10:56:43.870897Z"
    }
   },
   "source": [
    "df_query_dev.head()"
   ],
   "outputs": [
    {
     "data": {
      "text/plain": [
       "   post_id                                         tweet_text  cord_uid\n",
       "0       16  covid recovery: this study from the usa reveal...  3qvh482o\n",
       "1       69  \"Among 139 clients exposed to two symptomatic ...  r58aohnu\n",
       "2       73  I recall early on reading that researchers who...  sts48u9i\n",
       "3       93  You know you're credible when NIH website has ...  3sr2exq9\n",
       "4       96  Resistance to antifungal medications is a grow...  ybwwmyqy"
      ],
      "text/html": [
       "<div>\n",
       "<style scoped>\n",
       "    .dataframe tbody tr th:only-of-type {\n",
       "        vertical-align: middle;\n",
       "    }\n",
       "\n",
       "    .dataframe tbody tr th {\n",
       "        vertical-align: top;\n",
       "    }\n",
       "\n",
       "    .dataframe thead th {\n",
       "        text-align: right;\n",
       "    }\n",
       "</style>\n",
       "<table border=\"1\" class=\"dataframe\">\n",
       "  <thead>\n",
       "    <tr style=\"text-align: right;\">\n",
       "      <th></th>\n",
       "      <th>post_id</th>\n",
       "      <th>tweet_text</th>\n",
       "      <th>cord_uid</th>\n",
       "    </tr>\n",
       "  </thead>\n",
       "  <tbody>\n",
       "    <tr>\n",
       "      <th>0</th>\n",
       "      <td>16</td>\n",
       "      <td>covid recovery: this study from the usa reveal...</td>\n",
       "      <td>3qvh482o</td>\n",
       "    </tr>\n",
       "    <tr>\n",
       "      <th>1</th>\n",
       "      <td>69</td>\n",
       "      <td>\"Among 139 clients exposed to two symptomatic ...</td>\n",
       "      <td>r58aohnu</td>\n",
       "    </tr>\n",
       "    <tr>\n",
       "      <th>2</th>\n",
       "      <td>73</td>\n",
       "      <td>I recall early on reading that researchers who...</td>\n",
       "      <td>sts48u9i</td>\n",
       "    </tr>\n",
       "    <tr>\n",
       "      <th>3</th>\n",
       "      <td>93</td>\n",
       "      <td>You know you're credible when NIH website has ...</td>\n",
       "      <td>3sr2exq9</td>\n",
       "    </tr>\n",
       "    <tr>\n",
       "      <th>4</th>\n",
       "      <td>96</td>\n",
       "      <td>Resistance to antifungal medications is a grow...</td>\n",
       "      <td>ybwwmyqy</td>\n",
       "    </tr>\n",
       "  </tbody>\n",
       "</table>\n",
       "</div>"
      ]
     },
     "execution_count": 18,
     "metadata": {},
     "output_type": "execute_result"
    }
   ],
   "execution_count": 18
  },
  {
   "cell_type": "code",
   "metadata": {
    "colab": {
     "base_uri": "https://localhost:8080/"
    },
    "executionInfo": {
     "elapsed": 14,
     "status": "ok",
     "timestamp": 1742976032804,
     "user": {
      "displayName": "Yavuz",
      "userId": "01318046262282431930"
     },
     "user_tz": -60
    },
    "id": "t6gDlBZnLcdH",
    "outputId": "11cd57d2-a4b7-4b06-a9af-9ba5e29c191b",
    "ExecuteTime": {
     "end_time": "2025-05-09T10:56:44.043349Z",
     "start_time": "2025-05-09T10:56:44.033431Z"
    }
   },
   "source": [
    "df_query_dev.info()"
   ],
   "outputs": [
    {
     "name": "stdout",
     "output_type": "stream",
     "text": [
      "<class 'pandas.core.frame.DataFrame'>\n",
      "RangeIndex: 1400 entries, 0 to 1399\n",
      "Data columns (total 3 columns):\n",
      " #   Column      Non-Null Count  Dtype \n",
      "---  ------      --------------  ----- \n",
      " 0   post_id     1400 non-null   int64 \n",
      " 1   tweet_text  1400 non-null   object\n",
      " 2   cord_uid    1400 non-null   object\n",
      "dtypes: int64(1), object(2)\n",
      "memory usage: 32.9+ KB\n"
     ]
    }
   ],
   "execution_count": 19
  },
  {
   "metadata": {},
   "cell_type": "markdown",
   "source": "# 2a) Running the custom model"
  },
  {
   "metadata": {
    "ExecuteTime": {
     "end_time": "2025-05-09T17:23:10.698470Z",
     "start_time": "2025-05-09T17:23:10.693470Z"
    }
   },
   "cell_type": "code",
   "source": [
    "import re\n",
    "def tokenize(text):\n",
    "    return re.findall(r'\\w+', text.lower())"
   ],
   "outputs": [],
   "execution_count": 139
  },
  {
   "metadata": {
    "ExecuteTime": {
     "end_time": "2025-05-09T17:23:15.804Z",
     "start_time": "2025-05-09T17:23:15.799969Z"
    }
   },
   "cell_type": "code",
   "source": [
    "from rank_bm25 import BM25Okapi\n",
    "import numpy as np\n",
    "import re\n",
    "from tqdm import tqdm\n",
    "tqdm.pandas()"
   ],
   "outputs": [],
   "execution_count": 140
  },
  {
   "metadata": {
    "ExecuteTime": {
     "end_time": "2025-05-09T17:23:21.013604Z",
     "start_time": "2025-05-09T17:23:18.075120Z"
    }
   },
   "cell_type": "code",
   "source": [
    "corpus_okapi = df_collection[['title', 'abstract']].fillna('').apply(\n",
    "    lambda x: f\"{x['title']} {x['abstract']}\", axis=1\n",
    ")\n",
    "\n",
    "tokenized_corpus_okapi = corpus_okapi.apply(tokenize).tolist()\n",
    "cord_uids_okapi = df_collection['cord_uid'].tolist()\n",
    "\n",
    "bm25_model_okapi = BM25Okapi(tokenized_corpus_okapi)\n",
    "\n",
    "df_query_train['tokenized_query'] = df_query_train['tweet_text'].fillna('').apply(tokenize)\n",
    "df_query_dev['tokenized_query'] = df_query_dev['tweet_text'].fillna('').apply(tokenize)"
   ],
   "outputs": [],
   "execution_count": 141
  },
  {
   "metadata": {
    "ExecuteTime": {
     "end_time": "2025-05-09T17:43:25.871052Z",
     "start_time": "2025-05-09T17:23:29.174321Z"
    }
   },
   "cell_type": "code",
   "source": [
    "# Get top 5 document IDs per query using improved tokenization\n",
    "def get_top_k_okapi(query_tokens):\n",
    "    return bm25_model_okapi.get_top_n(query_tokens, documents=cord_uids_okapi, n=5)\n",
    "\n",
    "# Apply to train/dev\n",
    "df_query_train['bm25_topk_okapi'] = df_query_train['tokenized_query'].progress_apply(get_top_k_okapi)\n",
    "\n",
    "df_query_dev['bm25_topk_okapi'] = df_query_dev['tokenized_query'].progress_apply(\n",
    "    lambda q: get_top_k_okapi(q)\n",
    ")"
   ],
   "outputs": [
    {
     "name": "stderr",
     "output_type": "stream",
     "text": [
      "100%|██████████| 12853/12853 [18:09<00:00, 11.80it/s]\n",
      "100%|██████████| 1400/1400 [01:47<00:00, 13.05it/s]\n"
     ]
    }
   ],
   "execution_count": 142
  },
  {
   "metadata": {},
   "cell_type": "markdown",
   "source": "## Evaluate Custom Model"
  },
  {
   "metadata": {
    "ExecuteTime": {
     "end_time": "2025-05-09T14:37:24.160602Z",
     "start_time": "2025-05-09T14:37:24.156162Z"
    }
   },
   "cell_type": "code",
   "source": [
    "# Evaluate retrieved candidates using MRR@k\n",
    "def get_performance_mrr_custom(data, col_gold, col_pred, list_k = [1, 5, 10]):\n",
    "    d_performance = {}\n",
    "    for k in list_k:\n",
    "        data[\"in_topx\"] = data.apply(lambda x: (1/([i for i in x[col_pred][:k]].index(x[col_gold]) + 1) if x[col_gold] in [i for i in x[col_pred][:k]] else 0), axis=1)\n",
    "        #performances.append(data[\"in_topx\"].mean())\n",
    "        d_performance[k] = data[\"in_topx\"].mean()\n",
    "    return d_performance\n"
   ],
   "outputs": [],
   "execution_count": 65
  },
  {
   "metadata": {
    "ExecuteTime": {
     "end_time": "2025-05-09T17:45:44.657927Z",
     "start_time": "2025-05-09T17:45:44.392005Z"
    }
   },
   "cell_type": "code",
   "source": [
    "results_train_custom = get_performance_mrr_custom(df_query_train, 'cord_uid', 'bm25_topk_okapi')\n",
    "results_dev_custom = get_performance_mrr_custom(df_query_dev, 'cord_uid', 'bm25_topk_okapi')\n",
    "# Printed MRR@k results in the following format: {k: MRR@k}\n",
    "print(f\"Results on the train set: {results_train_custom}\")\n",
    "print(f\"Results on the dev set: {results_dev_custom}\")"
   ],
   "outputs": [
    {
     "name": "stdout",
     "output_type": "stream",
     "text": [
      "       post_id                                         tweet_text  cord_uid  \\\n",
      "0            0  Oral care in rehabilitation medicine: oral vul...  htlvpvz5   \n",
      "1            1  this study isn't receiving sufficient attentio...  4kfl29ul   \n",
      "2            2  thanks, xi jinping. a reminder that this study...  jtwb17u8   \n",
      "3            3  Taiwan - a population of 23 million has had ju...  0w9k8iy1   \n",
      "4            4  Obtaining a diagnosis of autism in lower incom...  tiqksd69   \n",
      "...        ...                                                ...       ...   \n",
      "12848    14248  \"evidence on covid-19 reveals a growing body o...  9169o29b   \n",
      "12849    14249  Outdoor lighting has detrimental impacts on lo...  s2bpha8l   \n",
      "12850    14250  26/ and influenza virus (and other pathogens, ...  atloc9th   \n",
      "12851    14251  does it?'sars-cov-2-naïve vaccinees had a 13.0...  t4y1ylb3   \n",
      "12852    14252  when \"the airway immune cells of children are ...  nlsv8bin   \n",
      "\n",
      "                                               bm25_topk   in_topx  \\\n",
      "0      [htlvpvz5, h7hj64q5, rwgqkow3, dbgtslc8, am11y...  1.000000   \n",
      "1      [2cwvga0k, 33znyrn8, st3fyb64, 74dw6emg, b68c8...  0.000000   \n",
      "2      [8hkxbxz9, w98847ai, jtwb17u8, iy1enazk, pg0l9...  0.333333   \n",
      "3      [32ua8wb6, zxe95qy9, 30pl5tx3, l4y7v729, b97ac...  0.000000   \n",
      "4      [tiqksd69, k7smwz6w, b0dzhsrh, yc7cvbii, iiafu...  1.000000   \n",
      "...                                                  ...       ...   \n",
      "12848  [l9lni5d3, qfrenkb6, wnlse824, jgq968f6, l69kw...  0.000000   \n",
      "12849  [s2bpha8l, 8a3fp7ym, eie9cozf, 5nt99kyu, o3pvs...  1.000000   \n",
      "12850  [2d2y5gmg, ps5crd29, ogx40z8c, 9rxv6fy9, lavcs...  0.000000   \n",
      "12851  [t4y1ylb3, 7a543f7v, b5eve7re, 02p4et0u, u89jd...  1.000000   \n",
      "12852  [nlsv8bin, l3k9bb5m, rrykpl0f, ucpdyk7z, cwqsb...  1.000000   \n",
      "\n",
      "                                        bm25_topk_custom  \\\n",
      "0      [0l7sbk7e, q4m2uj6r, nok0yfzv, cjmmwl2q, ajlpb...   \n",
      "1      [0l7sbk7e, q4m2uj6r, nok0yfzv, cjmmwl2q, ajlpb...   \n",
      "2      [2kft1r3l, oo4zwcdb, u89jd28e, 1r9xaw7c, n72vs...   \n",
      "3      [747lx5c2, 82afil03, qqbe2bop, nrhk8ctf, g2nhy...   \n",
      "4      [2kft1r3l, oo4zwcdb, u89jd28e, 1r9xaw7c, n72vs...   \n",
      "...                                                  ...   \n",
      "12848  [2kft1r3l, oo4zwcdb, u89jd28e, 1r9xaw7c, n72vs...   \n",
      "12849  [0l7sbk7e, q4m2uj6r, nok0yfzv, cjmmwl2q, ajlpb...   \n",
      "12850  [0l7sbk7e, q4m2uj6r, nok0yfzv, cjmmwl2q, ajlpb...   \n",
      "12851  [2kft1r3l, oo4zwcdb, u89jd28e, 1r9xaw7c, n72vs...   \n",
      "12852  [2kft1r3l, oo4zwcdb, u89jd28e, 1r9xaw7c, n72vs...   \n",
      "\n",
      "                                         tokenized_query  \\\n",
      "0      [oral, care, in, rehabilitation, medicine, ora...   \n",
      "1      [this, study, isn, t, receiving, sufficient, a...   \n",
      "2      [thanks, xi, jinping, a, reminder, that, this,...   \n",
      "3      [taiwan, a, population, of, 23, million, has, ...   \n",
      "4      [obtaining, a, diagnosis, of, autism, in, lowe...   \n",
      "...                                                  ...   \n",
      "12848  [evidence, on, covid, 19, reveals, a, growing,...   \n",
      "12849  [outdoor, lighting, has, detrimental, impacts,...   \n",
      "12850  [26, and, influenza, virus, and, other, pathog...   \n",
      "12851  [does, it, sars, cov, 2, naïve, vaccinees, had...   \n",
      "12852  [when, the, airway, immune, cells, of, childre...   \n",
      "\n",
      "                                         bm25_topk_okapi  \n",
      "0      [htlvpvz5, 4aps0kvp, h7hj64q5, am11yqbf, rwgqk...  \n",
      "1      [bjvg2ivr, maj8r6ti, 7tto4hr7, 2cwvga0k, 29z4q...  \n",
      "2      [jtwb17u8, 8hkxbxz9, veeavho5, iy1enazk, jbpmb...  \n",
      "3      [l4y7v729, jhsqrto0, ybyk54ts, 0w9k8iy1, 32ua8...  \n",
      "4      [tiqksd69, k7smwz6w, en0obmna, yc7cvbii, 0u330...  \n",
      "...                                                  ...  \n",
      "12848  [qfrenkb6, jgq968f6, 1zuhilmu, l9lni5d3, dgng3...  \n",
      "12849  [s2bpha8l, 8a3fp7ym, 3a7utmsd, 2u9eenwu, 8d0zb...  \n",
      "12850  [2d2y5gmg, 7s79900j, p3qcflii, lavcsqov, ogx40...  \n",
      "12851  [7a543f7v, t4y1ylb3, a4klrp3h, sjsaw6yv, lcy7u...  \n",
      "12852  [nlsv8bin, l3k9bb5m, npd9wz3u, 8gh3q7p3, 6rpm4...  \n",
      "\n",
      "[12853 rows x 8 columns]\n",
      "       post_id                                         tweet_text  cord_uid  \\\n",
      "0            0  Oral care in rehabilitation medicine: oral vul...  htlvpvz5   \n",
      "1            1  this study isn't receiving sufficient attentio...  4kfl29ul   \n",
      "2            2  thanks, xi jinping. a reminder that this study...  jtwb17u8   \n",
      "3            3  Taiwan - a population of 23 million has had ju...  0w9k8iy1   \n",
      "4            4  Obtaining a diagnosis of autism in lower incom...  tiqksd69   \n",
      "...        ...                                                ...       ...   \n",
      "12848    14248  \"evidence on covid-19 reveals a growing body o...  9169o29b   \n",
      "12849    14249  Outdoor lighting has detrimental impacts on lo...  s2bpha8l   \n",
      "12850    14250  26/ and influenza virus (and other pathogens, ...  atloc9th   \n",
      "12851    14251  does it?'sars-cov-2-naïve vaccinees had a 13.0...  t4y1ylb3   \n",
      "12852    14252  when \"the airway immune cells of children are ...  nlsv8bin   \n",
      "\n",
      "                                               bm25_topk  in_topx  \\\n",
      "0      [htlvpvz5, h7hj64q5, rwgqkow3, dbgtslc8, am11y...      1.0   \n",
      "1      [2cwvga0k, 33znyrn8, st3fyb64, 74dw6emg, b68c8...      0.0   \n",
      "2      [8hkxbxz9, w98847ai, jtwb17u8, iy1enazk, pg0l9...      1.0   \n",
      "3      [32ua8wb6, zxe95qy9, 30pl5tx3, l4y7v729, b97ac...      0.0   \n",
      "4      [tiqksd69, k7smwz6w, b0dzhsrh, yc7cvbii, iiafu...      1.0   \n",
      "...                                                  ...      ...   \n",
      "12848  [l9lni5d3, qfrenkb6, wnlse824, jgq968f6, l69kw...      0.0   \n",
      "12849  [s2bpha8l, 8a3fp7ym, eie9cozf, 5nt99kyu, o3pvs...      1.0   \n",
      "12850  [2d2y5gmg, ps5crd29, ogx40z8c, 9rxv6fy9, lavcs...      0.0   \n",
      "12851  [t4y1ylb3, 7a543f7v, b5eve7re, 02p4et0u, u89jd...      0.0   \n",
      "12852  [nlsv8bin, l3k9bb5m, rrykpl0f, ucpdyk7z, cwqsb...      1.0   \n",
      "\n",
      "                                        bm25_topk_custom  \\\n",
      "0      [0l7sbk7e, q4m2uj6r, nok0yfzv, cjmmwl2q, ajlpb...   \n",
      "1      [0l7sbk7e, q4m2uj6r, nok0yfzv, cjmmwl2q, ajlpb...   \n",
      "2      [2kft1r3l, oo4zwcdb, u89jd28e, 1r9xaw7c, n72vs...   \n",
      "3      [747lx5c2, 82afil03, qqbe2bop, nrhk8ctf, g2nhy...   \n",
      "4      [2kft1r3l, oo4zwcdb, u89jd28e, 1r9xaw7c, n72vs...   \n",
      "...                                                  ...   \n",
      "12848  [2kft1r3l, oo4zwcdb, u89jd28e, 1r9xaw7c, n72vs...   \n",
      "12849  [0l7sbk7e, q4m2uj6r, nok0yfzv, cjmmwl2q, ajlpb...   \n",
      "12850  [0l7sbk7e, q4m2uj6r, nok0yfzv, cjmmwl2q, ajlpb...   \n",
      "12851  [2kft1r3l, oo4zwcdb, u89jd28e, 1r9xaw7c, n72vs...   \n",
      "12852  [2kft1r3l, oo4zwcdb, u89jd28e, 1r9xaw7c, n72vs...   \n",
      "\n",
      "                                         tokenized_query  \\\n",
      "0      [oral, care, in, rehabilitation, medicine, ora...   \n",
      "1      [this, study, isn, t, receiving, sufficient, a...   \n",
      "2      [thanks, xi, jinping, a, reminder, that, this,...   \n",
      "3      [taiwan, a, population, of, 23, million, has, ...   \n",
      "4      [obtaining, a, diagnosis, of, autism, in, lowe...   \n",
      "...                                                  ...   \n",
      "12848  [evidence, on, covid, 19, reveals, a, growing,...   \n",
      "12849  [outdoor, lighting, has, detrimental, impacts,...   \n",
      "12850  [26, and, influenza, virus, and, other, pathog...   \n",
      "12851  [does, it, sars, cov, 2, naïve, vaccinees, had...   \n",
      "12852  [when, the, airway, immune, cells, of, childre...   \n",
      "\n",
      "                                         bm25_topk_okapi  \n",
      "0      [htlvpvz5, 4aps0kvp, h7hj64q5, am11yqbf, rwgqk...  \n",
      "1      [bjvg2ivr, maj8r6ti, 7tto4hr7, 2cwvga0k, 29z4q...  \n",
      "2      [jtwb17u8, 8hkxbxz9, veeavho5, iy1enazk, jbpmb...  \n",
      "3      [l4y7v729, jhsqrto0, ybyk54ts, 0w9k8iy1, 32ua8...  \n",
      "4      [tiqksd69, k7smwz6w, en0obmna, yc7cvbii, 0u330...  \n",
      "...                                                  ...  \n",
      "12848  [qfrenkb6, jgq968f6, 1zuhilmu, l9lni5d3, dgng3...  \n",
      "12849  [s2bpha8l, 8a3fp7ym, 3a7utmsd, 2u9eenwu, 8d0zb...  \n",
      "12850  [2d2y5gmg, 7s79900j, p3qcflii, lavcsqov, ogx40...  \n",
      "12851  [7a543f7v, t4y1ylb3, a4klrp3h, sjsaw6yv, lcy7u...  \n",
      "12852  [nlsv8bin, l3k9bb5m, npd9wz3u, 8gh3q7p3, 6rpm4...  \n",
      "\n",
      "[12853 rows x 8 columns]\n",
      "       post_id                                         tweet_text  cord_uid  \\\n",
      "0            0  Oral care in rehabilitation medicine: oral vul...  htlvpvz5   \n",
      "1            1  this study isn't receiving sufficient attentio...  4kfl29ul   \n",
      "2            2  thanks, xi jinping. a reminder that this study...  jtwb17u8   \n",
      "3            3  Taiwan - a population of 23 million has had ju...  0w9k8iy1   \n",
      "4            4  Obtaining a diagnosis of autism in lower incom...  tiqksd69   \n",
      "...        ...                                                ...       ...   \n",
      "12848    14248  \"evidence on covid-19 reveals a growing body o...  9169o29b   \n",
      "12849    14249  Outdoor lighting has detrimental impacts on lo...  s2bpha8l   \n",
      "12850    14250  26/ and influenza virus (and other pathogens, ...  atloc9th   \n",
      "12851    14251  does it?'sars-cov-2-naïve vaccinees had a 13.0...  t4y1ylb3   \n",
      "12852    14252  when \"the airway immune cells of children are ...  nlsv8bin   \n",
      "\n",
      "                                               bm25_topk  in_topx  \\\n",
      "0      [htlvpvz5, h7hj64q5, rwgqkow3, dbgtslc8, am11y...     1.00   \n",
      "1      [2cwvga0k, 33znyrn8, st3fyb64, 74dw6emg, b68c8...     0.00   \n",
      "2      [8hkxbxz9, w98847ai, jtwb17u8, iy1enazk, pg0l9...     1.00   \n",
      "3      [32ua8wb6, zxe95qy9, 30pl5tx3, l4y7v729, b97ac...     0.25   \n",
      "4      [tiqksd69, k7smwz6w, b0dzhsrh, yc7cvbii, iiafu...     1.00   \n",
      "...                                                  ...      ...   \n",
      "12848  [l9lni5d3, qfrenkb6, wnlse824, jgq968f6, l69kw...     0.00   \n",
      "12849  [s2bpha8l, 8a3fp7ym, eie9cozf, 5nt99kyu, o3pvs...     1.00   \n",
      "12850  [2d2y5gmg, ps5crd29, ogx40z8c, 9rxv6fy9, lavcs...     0.00   \n",
      "12851  [t4y1ylb3, 7a543f7v, b5eve7re, 02p4et0u, u89jd...     0.50   \n",
      "12852  [nlsv8bin, l3k9bb5m, rrykpl0f, ucpdyk7z, cwqsb...     1.00   \n",
      "\n",
      "                                        bm25_topk_custom  \\\n",
      "0      [0l7sbk7e, q4m2uj6r, nok0yfzv, cjmmwl2q, ajlpb...   \n",
      "1      [0l7sbk7e, q4m2uj6r, nok0yfzv, cjmmwl2q, ajlpb...   \n",
      "2      [2kft1r3l, oo4zwcdb, u89jd28e, 1r9xaw7c, n72vs...   \n",
      "3      [747lx5c2, 82afil03, qqbe2bop, nrhk8ctf, g2nhy...   \n",
      "4      [2kft1r3l, oo4zwcdb, u89jd28e, 1r9xaw7c, n72vs...   \n",
      "...                                                  ...   \n",
      "12848  [2kft1r3l, oo4zwcdb, u89jd28e, 1r9xaw7c, n72vs...   \n",
      "12849  [0l7sbk7e, q4m2uj6r, nok0yfzv, cjmmwl2q, ajlpb...   \n",
      "12850  [0l7sbk7e, q4m2uj6r, nok0yfzv, cjmmwl2q, ajlpb...   \n",
      "12851  [2kft1r3l, oo4zwcdb, u89jd28e, 1r9xaw7c, n72vs...   \n",
      "12852  [2kft1r3l, oo4zwcdb, u89jd28e, 1r9xaw7c, n72vs...   \n",
      "\n",
      "                                         tokenized_query  \\\n",
      "0      [oral, care, in, rehabilitation, medicine, ora...   \n",
      "1      [this, study, isn, t, receiving, sufficient, a...   \n",
      "2      [thanks, xi, jinping, a, reminder, that, this,...   \n",
      "3      [taiwan, a, population, of, 23, million, has, ...   \n",
      "4      [obtaining, a, diagnosis, of, autism, in, lowe...   \n",
      "...                                                  ...   \n",
      "12848  [evidence, on, covid, 19, reveals, a, growing,...   \n",
      "12849  [outdoor, lighting, has, detrimental, impacts,...   \n",
      "12850  [26, and, influenza, virus, and, other, pathog...   \n",
      "12851  [does, it, sars, cov, 2, naïve, vaccinees, had...   \n",
      "12852  [when, the, airway, immune, cells, of, childre...   \n",
      "\n",
      "                                         bm25_topk_okapi  \n",
      "0      [htlvpvz5, 4aps0kvp, h7hj64q5, am11yqbf, rwgqk...  \n",
      "1      [bjvg2ivr, maj8r6ti, 7tto4hr7, 2cwvga0k, 29z4q...  \n",
      "2      [jtwb17u8, 8hkxbxz9, veeavho5, iy1enazk, jbpmb...  \n",
      "3      [l4y7v729, jhsqrto0, ybyk54ts, 0w9k8iy1, 32ua8...  \n",
      "4      [tiqksd69, k7smwz6w, en0obmna, yc7cvbii, 0u330...  \n",
      "...                                                  ...  \n",
      "12848  [qfrenkb6, jgq968f6, 1zuhilmu, l9lni5d3, dgng3...  \n",
      "12849  [s2bpha8l, 8a3fp7ym, 3a7utmsd, 2u9eenwu, 8d0zb...  \n",
      "12850  [2d2y5gmg, 7s79900j, p3qcflii, lavcsqov, ogx40...  \n",
      "12851  [7a543f7v, t4y1ylb3, a4klrp3h, sjsaw6yv, lcy7u...  \n",
      "12852  [nlsv8bin, l3k9bb5m, npd9wz3u, 8gh3q7p3, 6rpm4...  \n",
      "\n",
      "[12853 rows x 8 columns]\n",
      "      post_id                                         tweet_text  cord_uid  \\\n",
      "0          16  covid recovery: this study from the usa reveal...  3qvh482o   \n",
      "1          69  \"Among 139 clients exposed to two symptomatic ...  r58aohnu   \n",
      "2          73  I recall early on reading that researchers who...  sts48u9i   \n",
      "3          93  You know you're credible when NIH website has ...  3sr2exq9   \n",
      "4          96  Resistance to antifungal medications is a grow...  ybwwmyqy   \n",
      "...       ...                                                ...       ...   \n",
      "1395    14193  Residents at high risk of covid-19: effectiven...  0gn3b98n   \n",
      "1396    14196  61% of teenagers hospitalized for covid were \"...  25bdifv6   \n",
      "1397    14203  \"fresh evidence backing melatonin against covi...  qn6wawxk   \n",
      "1398    14233  the vaccine doesn't halt the spread, it is pro...  3u3i5myh   \n",
      "1399    14236  \"Great commentary from K. Carvalho,  black pre...  nih4l4ok   \n",
      "\n",
      "                                              bm25_topk  in_topx  \\\n",
      "0     [25aj8rj5, gatxuwz7, 59up4v56, styavbvi, 6sy80...      0.0   \n",
      "1     [r58aohnu, p0kg6dyz, 9dlaaye8, iu1d9i57, d06np...      1.0   \n",
      "2     [tz2shoso, o877uul1, m1sf159a, sgo76prc, gruir...      0.0   \n",
      "3     [3sr2exq9, hgpiig0g, sv48gjkk, k0f4cwig, ihgxt...      1.0   \n",
      "4     [lzddnb8j, ouvq2wpq, sxx3yid9, vabb2f26, y9fqa...      0.0   \n",
      "...                                                 ...      ...   \n",
      "1395  [0gn3b98n, soa71kwx, 0e97tdez, feohcey3, pqjum...      1.0   \n",
      "1396  [s1gdbsfx, 92z77upt, 5m23wtpi, j8evw0qj, xtmn1...      0.0   \n",
      "1397  [qn6wawxk, dsz66r4u, m80rklg5, rtus1qyw, 059oj...      1.0   \n",
      "1398  [unl3n0tn, 2u9eenwu, d6ow67k9, 582ld85p, 47p4g...      0.0   \n",
      "1399  [nih4l4ok, w4dyadpa, uv5jctnd, rwevmwcr, rm6av...      1.0   \n",
      "\n",
      "                                       bm25_topk_custom  \\\n",
      "0     [2kft1r3l, oo4zwcdb, u89jd28e, 1r9xaw7c, n72vs...   \n",
      "1     [irx4pcsx, m41w2007, xthxesgk, 4fgeb27a, qq46f...   \n",
      "2     [b4wlsc9q, w094r17f, arcz8ku9, 64jbpypy, 5oy0q...   \n",
      "3     [yxkub54e, 5g8u35f8, fnguelau, vcl64usu, fm9md...   \n",
      "4     [2kft1r3l, oo4zwcdb, u89jd28e, 1r9xaw7c, n72vs...   \n",
      "...                                                 ...   \n",
      "1395  [0l7sbk7e, q4m2uj6r, nok0yfzv, cjmmwl2q, ajlpb...   \n",
      "1396  [0l7sbk7e, q4m2uj6r, nok0yfzv, cjmmwl2q, ajlpb...   \n",
      "1397  [0l7sbk7e, q4m2uj6r, nok0yfzv, cjmmwl2q, ajlpb...   \n",
      "1398  [0l7sbk7e, q4m2uj6r, nok0yfzv, cjmmwl2q, ajlpb...   \n",
      "1399  [0l7sbk7e, q4m2uj6r, nok0yfzv, cjmmwl2q, ajlpb...   \n",
      "\n",
      "                                        tokenized_query  \\\n",
      "0     [covid, recovery, this, study, from, the, usa,...   \n",
      "1     [among, 139, clients, exposed, to, two, sympto...   \n",
      "2     [i, recall, early, on, reading, that, research...   \n",
      "3     [you, know, you, re, credible, when, nih, webs...   \n",
      "4     [resistance, to, antifungal, medications, is, ...   \n",
      "...                                                 ...   \n",
      "1395  [residents, at, high, risk, of, covid, 19, eff...   \n",
      "1396  [61, of, teenagers, hospitalized, for, covid, ...   \n",
      "1397  [fresh, evidence, backing, melatonin, against,...   \n",
      "1398  [the, vaccine, doesn, t, halt, the, spread, it...   \n",
      "1399  [great, commentary, from, k, carvalho, black, ...   \n",
      "\n",
      "                                        bm25_topk_okapi  \n",
      "0     [mb18fj8a, atji1xge, styavbvi, gatxuwz7, 25aj8...  \n",
      "1     [r58aohnu, p0kg6dyz, yrowv62k, s2vckt2w, j1ucr...  \n",
      "2     [sts48u9i, tz2shoso, gruir7aw, azl5dj74, wtqwg...  \n",
      "3     [3sr2exq9, hgpiig0g, sv48gjkk, 1cpjqav4, k0f4c...  \n",
      "4     [ouvq2wpq, 3l6ipiwk, lzddnb8j, vabb2f26, sxx3y...  \n",
      "...                                                 ...  \n",
      "1395  [0gn3b98n, 0e97tdez, soa71kwx, feohcey3, 56rn6...  \n",
      "1396  [s1gdbsfx, yhmcx7ae, 92z77upt, zjbyz1vy, pdiyq...  \n",
      "1397  [qn6wawxk, 059oj76m, dsz66r4u, wrsk5vh9, yk2th...  \n",
      "1398  [unl3n0tn, gtwg0m54, 45y7jepy, 7368psat, 582ld...  \n",
      "1399  [nih4l4ok, w4dyadpa, i9nchww2, bdxzphjb, dfhxc...  \n",
      "\n",
      "[1400 rows x 8 columns]\n",
      "      post_id                                         tweet_text  cord_uid  \\\n",
      "0          16  covid recovery: this study from the usa reveal...  3qvh482o   \n",
      "1          69  \"Among 139 clients exposed to two symptomatic ...  r58aohnu   \n",
      "2          73  I recall early on reading that researchers who...  sts48u9i   \n",
      "3          93  You know you're credible when NIH website has ...  3sr2exq9   \n",
      "4          96  Resistance to antifungal medications is a grow...  ybwwmyqy   \n",
      "...       ...                                                ...       ...   \n",
      "1395    14193  Residents at high risk of covid-19: effectiven...  0gn3b98n   \n",
      "1396    14196  61% of teenagers hospitalized for covid were \"...  25bdifv6   \n",
      "1397    14203  \"fresh evidence backing melatonin against covi...  qn6wawxk   \n",
      "1398    14233  the vaccine doesn't halt the spread, it is pro...  3u3i5myh   \n",
      "1399    14236  \"Great commentary from K. Carvalho,  black pre...  nih4l4ok   \n",
      "\n",
      "                                              bm25_topk  in_topx  \\\n",
      "0     [25aj8rj5, gatxuwz7, 59up4v56, styavbvi, 6sy80...      0.0   \n",
      "1     [r58aohnu, p0kg6dyz, 9dlaaye8, iu1d9i57, d06np...      1.0   \n",
      "2     [tz2shoso, o877uul1, m1sf159a, sgo76prc, gruir...      1.0   \n",
      "3     [3sr2exq9, hgpiig0g, sv48gjkk, k0f4cwig, ihgxt...      1.0   \n",
      "4     [lzddnb8j, ouvq2wpq, sxx3yid9, vabb2f26, y9fqa...      0.0   \n",
      "...                                                 ...      ...   \n",
      "1395  [0gn3b98n, soa71kwx, 0e97tdez, feohcey3, pqjum...      1.0   \n",
      "1396  [s1gdbsfx, 92z77upt, 5m23wtpi, j8evw0qj, xtmn1...      0.0   \n",
      "1397  [qn6wawxk, dsz66r4u, m80rklg5, rtus1qyw, 059oj...      1.0   \n",
      "1398  [unl3n0tn, 2u9eenwu, d6ow67k9, 582ld85p, 47p4g...      0.0   \n",
      "1399  [nih4l4ok, w4dyadpa, uv5jctnd, rwevmwcr, rm6av...      1.0   \n",
      "\n",
      "                                       bm25_topk_custom  \\\n",
      "0     [2kft1r3l, oo4zwcdb, u89jd28e, 1r9xaw7c, n72vs...   \n",
      "1     [irx4pcsx, m41w2007, xthxesgk, 4fgeb27a, qq46f...   \n",
      "2     [b4wlsc9q, w094r17f, arcz8ku9, 64jbpypy, 5oy0q...   \n",
      "3     [yxkub54e, 5g8u35f8, fnguelau, vcl64usu, fm9md...   \n",
      "4     [2kft1r3l, oo4zwcdb, u89jd28e, 1r9xaw7c, n72vs...   \n",
      "...                                                 ...   \n",
      "1395  [0l7sbk7e, q4m2uj6r, nok0yfzv, cjmmwl2q, ajlpb...   \n",
      "1396  [0l7sbk7e, q4m2uj6r, nok0yfzv, cjmmwl2q, ajlpb...   \n",
      "1397  [0l7sbk7e, q4m2uj6r, nok0yfzv, cjmmwl2q, ajlpb...   \n",
      "1398  [0l7sbk7e, q4m2uj6r, nok0yfzv, cjmmwl2q, ajlpb...   \n",
      "1399  [0l7sbk7e, q4m2uj6r, nok0yfzv, cjmmwl2q, ajlpb...   \n",
      "\n",
      "                                        tokenized_query  \\\n",
      "0     [covid, recovery, this, study, from, the, usa,...   \n",
      "1     [among, 139, clients, exposed, to, two, sympto...   \n",
      "2     [i, recall, early, on, reading, that, research...   \n",
      "3     [you, know, you, re, credible, when, nih, webs...   \n",
      "4     [resistance, to, antifungal, medications, is, ...   \n",
      "...                                                 ...   \n",
      "1395  [residents, at, high, risk, of, covid, 19, eff...   \n",
      "1396  [61, of, teenagers, hospitalized, for, covid, ...   \n",
      "1397  [fresh, evidence, backing, melatonin, against,...   \n",
      "1398  [the, vaccine, doesn, t, halt, the, spread, it...   \n",
      "1399  [great, commentary, from, k, carvalho, black, ...   \n",
      "\n",
      "                                        bm25_topk_okapi  \n",
      "0     [mb18fj8a, atji1xge, styavbvi, gatxuwz7, 25aj8...  \n",
      "1     [r58aohnu, p0kg6dyz, yrowv62k, s2vckt2w, j1ucr...  \n",
      "2     [sts48u9i, tz2shoso, gruir7aw, azl5dj74, wtqwg...  \n",
      "3     [3sr2exq9, hgpiig0g, sv48gjkk, 1cpjqav4, k0f4c...  \n",
      "4     [ouvq2wpq, 3l6ipiwk, lzddnb8j, vabb2f26, sxx3y...  \n",
      "...                                                 ...  \n",
      "1395  [0gn3b98n, 0e97tdez, soa71kwx, feohcey3, 56rn6...  \n",
      "1396  [s1gdbsfx, yhmcx7ae, 92z77upt, zjbyz1vy, pdiyq...  \n",
      "1397  [qn6wawxk, 059oj76m, dsz66r4u, wrsk5vh9, yk2th...  \n",
      "1398  [unl3n0tn, gtwg0m54, 45y7jepy, 7368psat, 582ld...  \n",
      "1399  [nih4l4ok, w4dyadpa, i9nchww2, bdxzphjb, dfhxc...  \n",
      "\n",
      "[1400 rows x 8 columns]\n",
      "      post_id                                         tweet_text  cord_uid  \\\n",
      "0          16  covid recovery: this study from the usa reveal...  3qvh482o   \n",
      "1          69  \"Among 139 clients exposed to two symptomatic ...  r58aohnu   \n",
      "2          73  I recall early on reading that researchers who...  sts48u9i   \n",
      "3          93  You know you're credible when NIH website has ...  3sr2exq9   \n",
      "4          96  Resistance to antifungal medications is a grow...  ybwwmyqy   \n",
      "...       ...                                                ...       ...   \n",
      "1395    14193  Residents at high risk of covid-19: effectiven...  0gn3b98n   \n",
      "1396    14196  61% of teenagers hospitalized for covid were \"...  25bdifv6   \n",
      "1397    14203  \"fresh evidence backing melatonin against covi...  qn6wawxk   \n",
      "1398    14233  the vaccine doesn't halt the spread, it is pro...  3u3i5myh   \n",
      "1399    14236  \"Great commentary from K. Carvalho,  black pre...  nih4l4ok   \n",
      "\n",
      "                                              bm25_topk  in_topx  \\\n",
      "0     [25aj8rj5, gatxuwz7, 59up4v56, styavbvi, 6sy80...      0.0   \n",
      "1     [r58aohnu, p0kg6dyz, 9dlaaye8, iu1d9i57, d06np...      1.0   \n",
      "2     [tz2shoso, o877uul1, m1sf159a, sgo76prc, gruir...      1.0   \n",
      "3     [3sr2exq9, hgpiig0g, sv48gjkk, k0f4cwig, ihgxt...      1.0   \n",
      "4     [lzddnb8j, ouvq2wpq, sxx3yid9, vabb2f26, y9fqa...      0.0   \n",
      "...                                                 ...      ...   \n",
      "1395  [0gn3b98n, soa71kwx, 0e97tdez, feohcey3, pqjum...      1.0   \n",
      "1396  [s1gdbsfx, 92z77upt, 5m23wtpi, j8evw0qj, xtmn1...      0.0   \n",
      "1397  [qn6wawxk, dsz66r4u, m80rklg5, rtus1qyw, 059oj...      1.0   \n",
      "1398  [unl3n0tn, 2u9eenwu, d6ow67k9, 582ld85p, 47p4g...      0.0   \n",
      "1399  [nih4l4ok, w4dyadpa, uv5jctnd, rwevmwcr, rm6av...      1.0   \n",
      "\n",
      "                                       bm25_topk_custom  \\\n",
      "0     [2kft1r3l, oo4zwcdb, u89jd28e, 1r9xaw7c, n72vs...   \n",
      "1     [irx4pcsx, m41w2007, xthxesgk, 4fgeb27a, qq46f...   \n",
      "2     [b4wlsc9q, w094r17f, arcz8ku9, 64jbpypy, 5oy0q...   \n",
      "3     [yxkub54e, 5g8u35f8, fnguelau, vcl64usu, fm9md...   \n",
      "4     [2kft1r3l, oo4zwcdb, u89jd28e, 1r9xaw7c, n72vs...   \n",
      "...                                                 ...   \n",
      "1395  [0l7sbk7e, q4m2uj6r, nok0yfzv, cjmmwl2q, ajlpb...   \n",
      "1396  [0l7sbk7e, q4m2uj6r, nok0yfzv, cjmmwl2q, ajlpb...   \n",
      "1397  [0l7sbk7e, q4m2uj6r, nok0yfzv, cjmmwl2q, ajlpb...   \n",
      "1398  [0l7sbk7e, q4m2uj6r, nok0yfzv, cjmmwl2q, ajlpb...   \n",
      "1399  [0l7sbk7e, q4m2uj6r, nok0yfzv, cjmmwl2q, ajlpb...   \n",
      "\n",
      "                                        tokenized_query  \\\n",
      "0     [covid, recovery, this, study, from, the, usa,...   \n",
      "1     [among, 139, clients, exposed, to, two, sympto...   \n",
      "2     [i, recall, early, on, reading, that, research...   \n",
      "3     [you, know, you, re, credible, when, nih, webs...   \n",
      "4     [resistance, to, antifungal, medications, is, ...   \n",
      "...                                                 ...   \n",
      "1395  [residents, at, high, risk, of, covid, 19, eff...   \n",
      "1396  [61, of, teenagers, hospitalized, for, covid, ...   \n",
      "1397  [fresh, evidence, backing, melatonin, against,...   \n",
      "1398  [the, vaccine, doesn, t, halt, the, spread, it...   \n",
      "1399  [great, commentary, from, k, carvalho, black, ...   \n",
      "\n",
      "                                        bm25_topk_okapi  \n",
      "0     [mb18fj8a, atji1xge, styavbvi, gatxuwz7, 25aj8...  \n",
      "1     [r58aohnu, p0kg6dyz, yrowv62k, s2vckt2w, j1ucr...  \n",
      "2     [sts48u9i, tz2shoso, gruir7aw, azl5dj74, wtqwg...  \n",
      "3     [3sr2exq9, hgpiig0g, sv48gjkk, 1cpjqav4, k0f4c...  \n",
      "4     [ouvq2wpq, 3l6ipiwk, lzddnb8j, vabb2f26, sxx3y...  \n",
      "...                                                 ...  \n",
      "1395  [0gn3b98n, 0e97tdez, soa71kwx, feohcey3, 56rn6...  \n",
      "1396  [s1gdbsfx, yhmcx7ae, 92z77upt, zjbyz1vy, pdiyq...  \n",
      "1397  [qn6wawxk, 059oj76m, dsz66r4u, wrsk5vh9, yk2th...  \n",
      "1398  [unl3n0tn, gtwg0m54, 45y7jepy, 7368psat, 582ld...  \n",
      "1399  [nih4l4ok, w4dyadpa, i9nchww2, bdxzphjb, dfhxc...  \n",
      "\n",
      "[1400 rows x 8 columns]\n",
      "Results on the train set: {1: np.float64(0.5735625923908815), 5: np.float64(0.6205529189034986), 10: np.float64(0.6205529189034986)}\n",
      "Results on the dev set: {1: np.float64(0.5864285714285714), 5: np.float64(0.628297619047619), 10: np.float64(0.628297619047619)}\n"
     ]
    }
   ],
   "execution_count": 143
  },
  {
   "cell_type": "markdown",
   "metadata": {
    "id": "RazcRTV84KQC"
   },
   "source": [
    "# 4) Exporting results to prepare the submission on Codalab"
   ]
  },
  {
   "cell_type": "code",
   "metadata": {
    "executionInfo": {
     "elapsed": 39,
     "status": "ok",
     "timestamp": 1742976603546,
     "user": {
      "displayName": "Yavuz",
      "userId": "01318046262282431930"
     },
     "user_tz": -60
    },
    "id": "DFng4ocDw3Hk",
    "ExecuteTime": {
     "end_time": "2025-05-09T17:59:20.017242Z",
     "start_time": "2025-05-09T17:59:19.813505Z"
    }
   },
   "source": "df_query_dev['preds'] = df_query_dev['bm25_topk_okapi'].apply(lambda x: x[:5])",
   "outputs": [
    {
     "ename": "NameError",
     "evalue": "name 'df_query_dev' is not defined",
     "output_type": "error",
     "traceback": [
      "\u001B[31m---------------------------------------------------------------------------\u001B[39m",
      "\u001B[31mNameError\u001B[39m                                 Traceback (most recent call last)",
      "\u001B[36mCell\u001B[39m\u001B[36m \u001B[39m\u001B[32mIn[1]\u001B[39m\u001B[32m, line 1\u001B[39m\n\u001B[32m----> \u001B[39m\u001B[32m1\u001B[39m df_query_dev[\u001B[33m'\u001B[39m\u001B[33mpreds\u001B[39m\u001B[33m'\u001B[39m] = \u001B[43mdf_query_dev\u001B[49m[\u001B[33m'\u001B[39m\u001B[33mbm25_topk_okapi\u001B[39m\u001B[33m'\u001B[39m].apply(\u001B[38;5;28;01mlambda\u001B[39;00m x: x[:\u001B[32m5\u001B[39m])\n",
      "\u001B[31mNameError\u001B[39m: name 'df_query_dev' is not defined"
     ]
    }
   ],
   "execution_count": 1
  },
  {
   "cell_type": "code",
   "execution_count": 22,
   "metadata": {
    "executionInfo": {
     "elapsed": 13,
     "status": "ok",
     "timestamp": 1742976608184,
     "user": {
      "displayName": "Yavuz",
      "userId": "01318046262282431930"
     },
     "user_tz": -60
    },
    "id": "nAVBQYh_xP8O"
   },
   "outputs": [],
   "source": [
    "df_query_dev[['post_id', 'preds']].to_csv('predictions.tsv', index=None, sep='\\t')"
   ]
  },
  {
   "cell_type": "code",
   "execution_count": null,
   "metadata": {
    "id": "opGI1H1h4Og5"
   },
   "outputs": [],
   "source": []
  }
 ],
 "metadata": {
  "colab": {
   "provenance": []
  },
  "kernelspec": {
   "display_name": "Python 3",
   "language": "python",
   "name": "python3"
  },
  "language_info": {
   "codemirror_mode": {
    "name": "ipython",
    "version": 3
   },
   "file_extension": ".py",
   "mimetype": "text/x-python",
   "name": "python",
   "nbconvert_exporter": "python",
   "pygments_lexer": "ipython3",
   "version": "3.11.10"
  }
 },
 "nbformat": 4,
 "nbformat_minor": 4
}
